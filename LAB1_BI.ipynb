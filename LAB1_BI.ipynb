{
  "nbformat": 4,
  "nbformat_minor": 0,
  "metadata": {
    "colab": {
      "provenance": [],
      "authorship_tag": "ABX9TyOW0taRx2rUIi9eMjVXc/qv",
      "include_colab_link": true
    },
    "kernelspec": {
      "name": "python3",
      "display_name": "Python 3"
    },
    "language_info": {
      "name": "python"
    }
  },
  "cells": [
    {
      "cell_type": "markdown",
      "metadata": {
        "id": "view-in-github",
        "colab_type": "text"
      },
      "source": [
        "<a href=\"https://colab.research.google.com/github/santyxd3000/Caso1-InfraComp/blob/main/LAB1_BI.ipynb\" target=\"_parent\"><img src=\"https://colab.research.google.com/assets/colab-badge.svg\" alt=\"Open In Colab\"/></a>"
      ]
    },
    {
      "cell_type": "markdown",
      "source": [
        "# **LABORATORIO 1 - INTELIGENCIA DE NEGOCIOS**\n",
        "\n",
        "Santiago Pardo - 202013025\n",
        "\n",
        "\n",
        "\n",
        "Luis Plazas - 202013155\n",
        "\n",
        "\n",
        "\n",
        "\n",
        "Felipe Rueda - 202010903"
      ],
      "metadata": {
        "id": "jMBZnjzPAsmD"
      }
    },
    {
      "cell_type": "code",
      "execution_count": null,
      "metadata": {
        "id": "zCVWaN-vAqY0"
      },
      "outputs": [],
      "source": [
        "##"
      ]
    }
  ]
}